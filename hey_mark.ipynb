{
 "cells": [
  {
   "cell_type": "markdown",
   "metadata": {},
   "source": [
    "## Hey Mark,\n",
    "\n",
    "    This is a jupyter notebook. You should be able to view it right off of github and once you have downloaded anaconda and installed it (and adding it to your path variable or whatever macs need to do) you can access it via typing \"jupyter notebook\" in your terminal after you have everything installed and the repository cloned.\n",
    "    \n",
    "    The way I figure it, we should be looking to intake .txt and .csv/excel files and add it to a running budget sheet. The budget sheet can be either designed to be displayed in an excel workbook or in some kind of python-based GUI.\n",
    "    \n",
    "    This is a markdown cell, a cell to type text in. Below is a code cell where I'll start some basic code. Each cell can be run seperately (shift+enter) and variables are preserved across cells.\n",
    "   "
   ]
  },
  {
   "cell_type": "code",
   "execution_count": 2,
   "metadata": {},
   "outputs": [],
   "source": [
    "# hash tags are used for code comments.\n",
    "\n",
    "# gotta import the packages we might want to use first\n",
    "\n",
    "import numpy as np # good package for math, very standard \n",
    "import pandas as pd # good data frame package for importing/exporting/managing\n",
    "import matplotlib.pyplot as plt # used for plotting and displays\n"
   ]
  },
  {
   "cell_type": "code",
   "execution_count": null,
   "metadata": {},
   "outputs": [],
   "source": [
    "# meh, im tired I'll write more tomorrow"
   ]
  },
  {
   "cell_type": "code",
   "execution_count": null,
   "metadata": {},
   "outputs": [],
   "source": []
  }
 ],
 "metadata": {
  "kernelspec": {
   "display_name": "Python 3",
   "language": "python",
   "name": "python3"
  },
  "language_info": {
   "codemirror_mode": {
    "name": "ipython",
    "version": 3
   },
   "file_extension": ".py",
   "mimetype": "text/x-python",
   "name": "python",
   "nbconvert_exporter": "python",
   "pygments_lexer": "ipython3",
   "version": "3.6.4"
  }
 },
 "nbformat": 4,
 "nbformat_minor": 2
}
